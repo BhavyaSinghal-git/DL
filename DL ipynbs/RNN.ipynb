{
  "nbformat": 4,
  "nbformat_minor": 0,
  "metadata": {
    "colab": {
      "provenance": [],
      "collapsed_sections": []
    },
    "kernelspec": {
      "name": "python3",
      "display_name": "Python 3"
    },
    "language_info": {
      "name": "python"
    },
    "accelerator": "GPU",
    "gpuClass": "standard"
  },
  "cells": [
    {
      "cell_type": "markdown",
      "source": [
        "B071\n",
        "\n",
        "Bhavya Singhal\n",
        "\n",
        "70022000199\n",
        "\n",
        "BTech CE"
      ],
      "metadata": {
        "id": "PJ9zS-3swcE4"
      }
    },
    {
      "cell_type": "code",
      "execution_count": null,
      "metadata": {
        "id": "r1KkdNbwwDyy"
      },
      "outputs": [],
      "source": [
        "import pandas as pd\n",
        "import matplotlib.pyplot as plt\n",
        "import numpy as np\n",
        "from keras.models import Sequential\n",
        "from keras.layers import Dense, SimpleRNN\n",
        "from sklearn.preprocessing import MinMaxScaler\n",
        "from sklearn.metrics import mean_squared_error\n",
        "import math\n"
      ]
    },
    {
      "cell_type": "code",
      "source": [
        "df = pd.read_csv(\"/content/monthly-sunspots.csv\", usecols=[1])"
      ],
      "metadata": {
        "id": "GssFn-YjyYTB"
      },
      "execution_count": null,
      "outputs": []
    },
    {
      "cell_type": "code",
      "source": [
        "df"
      ],
      "metadata": {
        "colab": {
          "base_uri": "https://localhost:8080/",
          "height": 423
        },
        "id": "vnJyK0q8zkL_",
        "outputId": "dfae04d1-6089-423d-cb06-61bf33a66df8"
      },
      "execution_count": null,
      "outputs": [
        {
          "output_type": "execute_result",
          "data": {
            "text/plain": [
              "      Sunspots\n",
              "0         58.0\n",
              "1         62.6\n",
              "2         70.0\n",
              "3         55.7\n",
              "4         85.0\n",
              "...        ...\n",
              "2815      71.8\n",
              "2816      50.3\n",
              "2817      55.8\n",
              "2818      33.3\n",
              "2819      33.4\n",
              "\n",
              "[2820 rows x 1 columns]"
            ],
            "text/html": [
              "\n",
              "  <div id=\"df-f84ff89e-d052-4e2b-b3a7-625c42c73b6a\">\n",
              "    <div class=\"colab-df-container\">\n",
              "      <div>\n",
              "<style scoped>\n",
              "    .dataframe tbody tr th:only-of-type {\n",
              "        vertical-align: middle;\n",
              "    }\n",
              "\n",
              "    .dataframe tbody tr th {\n",
              "        vertical-align: top;\n",
              "    }\n",
              "\n",
              "    .dataframe thead th {\n",
              "        text-align: right;\n",
              "    }\n",
              "</style>\n",
              "<table border=\"1\" class=\"dataframe\">\n",
              "  <thead>\n",
              "    <tr style=\"text-align: right;\">\n",
              "      <th></th>\n",
              "      <th>Sunspots</th>\n",
              "    </tr>\n",
              "  </thead>\n",
              "  <tbody>\n",
              "    <tr>\n",
              "      <th>0</th>\n",
              "      <td>58.0</td>\n",
              "    </tr>\n",
              "    <tr>\n",
              "      <th>1</th>\n",
              "      <td>62.6</td>\n",
              "    </tr>\n",
              "    <tr>\n",
              "      <th>2</th>\n",
              "      <td>70.0</td>\n",
              "    </tr>\n",
              "    <tr>\n",
              "      <th>3</th>\n",
              "      <td>55.7</td>\n",
              "    </tr>\n",
              "    <tr>\n",
              "      <th>4</th>\n",
              "      <td>85.0</td>\n",
              "    </tr>\n",
              "    <tr>\n",
              "      <th>...</th>\n",
              "      <td>...</td>\n",
              "    </tr>\n",
              "    <tr>\n",
              "      <th>2815</th>\n",
              "      <td>71.8</td>\n",
              "    </tr>\n",
              "    <tr>\n",
              "      <th>2816</th>\n",
              "      <td>50.3</td>\n",
              "    </tr>\n",
              "    <tr>\n",
              "      <th>2817</th>\n",
              "      <td>55.8</td>\n",
              "    </tr>\n",
              "    <tr>\n",
              "      <th>2818</th>\n",
              "      <td>33.3</td>\n",
              "    </tr>\n",
              "    <tr>\n",
              "      <th>2819</th>\n",
              "      <td>33.4</td>\n",
              "    </tr>\n",
              "  </tbody>\n",
              "</table>\n",
              "<p>2820 rows × 1 columns</p>\n",
              "</div>\n",
              "      <button class=\"colab-df-convert\" onclick=\"convertToInteractive('df-f84ff89e-d052-4e2b-b3a7-625c42c73b6a')\"\n",
              "              title=\"Convert this dataframe to an interactive table.\"\n",
              "              style=\"display:none;\">\n",
              "        \n",
              "  <svg xmlns=\"http://www.w3.org/2000/svg\" height=\"24px\"viewBox=\"0 0 24 24\"\n",
              "       width=\"24px\">\n",
              "    <path d=\"M0 0h24v24H0V0z\" fill=\"none\"/>\n",
              "    <path d=\"M18.56 5.44l.94 2.06.94-2.06 2.06-.94-2.06-.94-.94-2.06-.94 2.06-2.06.94zm-11 1L8.5 8.5l.94-2.06 2.06-.94-2.06-.94L8.5 2.5l-.94 2.06-2.06.94zm10 10l.94 2.06.94-2.06 2.06-.94-2.06-.94-.94-2.06-.94 2.06-2.06.94z\"/><path d=\"M17.41 7.96l-1.37-1.37c-.4-.4-.92-.59-1.43-.59-.52 0-1.04.2-1.43.59L10.3 9.45l-7.72 7.72c-.78.78-.78 2.05 0 2.83L4 21.41c.39.39.9.59 1.41.59.51 0 1.02-.2 1.41-.59l7.78-7.78 2.81-2.81c.8-.78.8-2.07 0-2.86zM5.41 20L4 18.59l7.72-7.72 1.47 1.35L5.41 20z\"/>\n",
              "  </svg>\n",
              "      </button>\n",
              "      \n",
              "  <style>\n",
              "    .colab-df-container {\n",
              "      display:flex;\n",
              "      flex-wrap:wrap;\n",
              "      gap: 12px;\n",
              "    }\n",
              "\n",
              "    .colab-df-convert {\n",
              "      background-color: #E8F0FE;\n",
              "      border: none;\n",
              "      border-radius: 50%;\n",
              "      cursor: pointer;\n",
              "      display: none;\n",
              "      fill: #1967D2;\n",
              "      height: 32px;\n",
              "      padding: 0 0 0 0;\n",
              "      width: 32px;\n",
              "    }\n",
              "\n",
              "    .colab-df-convert:hover {\n",
              "      background-color: #E2EBFA;\n",
              "      box-shadow: 0px 1px 2px rgba(60, 64, 67, 0.3), 0px 1px 3px 1px rgba(60, 64, 67, 0.15);\n",
              "      fill: #174EA6;\n",
              "    }\n",
              "\n",
              "    [theme=dark] .colab-df-convert {\n",
              "      background-color: #3B4455;\n",
              "      fill: #D2E3FC;\n",
              "    }\n",
              "\n",
              "    [theme=dark] .colab-df-convert:hover {\n",
              "      background-color: #434B5C;\n",
              "      box-shadow: 0px 1px 3px 1px rgba(0, 0, 0, 0.15);\n",
              "      filter: drop-shadow(0px 1px 2px rgba(0, 0, 0, 0.3));\n",
              "      fill: #FFFFFF;\n",
              "    }\n",
              "  </style>\n",
              "\n",
              "      <script>\n",
              "        const buttonEl =\n",
              "          document.querySelector('#df-f84ff89e-d052-4e2b-b3a7-625c42c73b6a button.colab-df-convert');\n",
              "        buttonEl.style.display =\n",
              "          google.colab.kernel.accessAllowed ? 'block' : 'none';\n",
              "\n",
              "        async function convertToInteractive(key) {\n",
              "          const element = document.querySelector('#df-f84ff89e-d052-4e2b-b3a7-625c42c73b6a');\n",
              "          const dataTable =\n",
              "            await google.colab.kernel.invokeFunction('convertToInteractive',\n",
              "                                                     [key], {});\n",
              "          if (!dataTable) return;\n",
              "\n",
              "          const docLinkHtml = 'Like what you see? Visit the ' +\n",
              "            '<a target=\"_blank\" href=https://colab.research.google.com/notebooks/data_table.ipynb>data table notebook</a>'\n",
              "            + ' to learn more about interactive tables.';\n",
              "          element.innerHTML = '';\n",
              "          dataTable['output_type'] = 'display_data';\n",
              "          await google.colab.output.renderOutput(dataTable, element);\n",
              "          const docLink = document.createElement('div');\n",
              "          docLink.innerHTML = docLinkHtml;\n",
              "          element.appendChild(docLink);\n",
              "        }\n",
              "      </script>\n",
              "    </div>\n",
              "  </div>\n",
              "  "
            ]
          },
          "metadata": {},
          "execution_count": 3
        }
      ]
    },
    {
      "cell_type": "code",
      "source": [
        "data_set = np.array(df.values.astype('float32'))\n",
        "scaler = MinMaxScaler(feature_range=(0,1))\n",
        "data_set = scaler.fit_transform(data_set).flatten()\n",
        "data_set"
      ],
      "metadata": {
        "colab": {
          "base_uri": "https://localhost:8080/"
        },
        "id": "ubgGYANxzkn-",
        "outputId": "b7306515-8583-4429-c636-8bf7c312dfdb"
      },
      "execution_count": null,
      "outputs": [
        {
          "output_type": "execute_result",
          "data": {
            "text/plain": [
              "array([0.22852638, 0.24665089, 0.2758077 , ..., 0.21985814, 0.13120566,\n",
              "       0.13159968], dtype=float32)"
            ]
          },
          "metadata": {},
          "execution_count": 4
        }
      ]
    },
    {
      "cell_type": "code",
      "source": [
        "n = len(data_set)\n",
        "n"
      ],
      "metadata": {
        "colab": {
          "base_uri": "https://localhost:8080/"
        },
        "id": "kGoin1mz042S",
        "outputId": "df6b80d0-2610-4e00-c52b-41e2bbb762d5"
      },
      "execution_count": null,
      "outputs": [
        {
          "output_type": "execute_result",
          "data": {
            "text/plain": [
              "2820"
            ]
          },
          "metadata": {},
          "execution_count": 5
        }
      ]
    },
    {
      "cell_type": "code",
      "source": [
        "split = int(0.8 * n)\n",
        "train = data_set[0:split]\n",
        "test = data_set[split:]"
      ],
      "metadata": {
        "id": "NDdwj07t1b9K"
      },
      "execution_count": null,
      "outputs": []
    },
    {
      "cell_type": "code",
      "source": [
        "split"
      ],
      "metadata": {
        "colab": {
          "base_uri": "https://localhost:8080/"
        },
        "id": "oX8wSYUg6VXy",
        "outputId": "55be2945-1fad-4ff7-d5d9-8be0d24094da"
      },
      "execution_count": null,
      "outputs": [
        {
          "output_type": "execute_result",
          "data": {
            "text/plain": [
              "2256"
            ]
          },
          "metadata": {},
          "execution_count": 7
        }
      ]
    },
    {
      "cell_type": "code",
      "source": [
        "len(train)"
      ],
      "metadata": {
        "colab": {
          "base_uri": "https://localhost:8080/"
        },
        "id": "o8gv2amA2H6C",
        "outputId": "de7d9660-096b-4d48-b5d3-a1c2d0b43fc5"
      },
      "execution_count": null,
      "outputs": [
        {
          "output_type": "execute_result",
          "data": {
            "text/plain": [
              "2256"
            ]
          },
          "metadata": {},
          "execution_count": 8
        }
      ]
    },
    {
      "cell_type": "code",
      "source": [
        "len(test)"
      ],
      "metadata": {
        "colab": {
          "base_uri": "https://localhost:8080/"
        },
        "id": "7qxQzuEd2JBi",
        "outputId": "476cf09f-e010-4d71-cc11-fc313e397176"
      },
      "execution_count": null,
      "outputs": [
        {
          "output_type": "execute_result",
          "data": {
            "text/plain": [
              "564"
            ]
          },
          "metadata": {},
          "execution_count": 9
        }
      ]
    },
    {
      "cell_type": "code",
      "source": [
        "ncell = 12\n",
        "yindex = np.arange(ncell-1, split, ncell)"
      ],
      "metadata": {
        "id": "YWkl1yeQ2J66"
      },
      "execution_count": null,
      "outputs": []
    },
    {
      "cell_type": "code",
      "source": [
        "yindex"
      ],
      "metadata": {
        "colab": {
          "base_uri": "https://localhost:8080/"
        },
        "id": "sckvTXph319b",
        "outputId": "e031e92d-60ac-47d9-f412-29af8b4cce9a"
      },
      "execution_count": null,
      "outputs": [
        {
          "output_type": "execute_result",
          "data": {
            "text/plain": [
              "array([  11,   23,   35,   47,   59,   71,   83,   95,  107,  119,  131,\n",
              "        143,  155,  167,  179,  191,  203,  215,  227,  239,  251,  263,\n",
              "        275,  287,  299,  311,  323,  335,  347,  359,  371,  383,  395,\n",
              "        407,  419,  431,  443,  455,  467,  479,  491,  503,  515,  527,\n",
              "        539,  551,  563,  575,  587,  599,  611,  623,  635,  647,  659,\n",
              "        671,  683,  695,  707,  719,  731,  743,  755,  767,  779,  791,\n",
              "        803,  815,  827,  839,  851,  863,  875,  887,  899,  911,  923,\n",
              "        935,  947,  959,  971,  983,  995, 1007, 1019, 1031, 1043, 1055,\n",
              "       1067, 1079, 1091, 1103, 1115, 1127, 1139, 1151, 1163, 1175, 1187,\n",
              "       1199, 1211, 1223, 1235, 1247, 1259, 1271, 1283, 1295, 1307, 1319,\n",
              "       1331, 1343, 1355, 1367, 1379, 1391, 1403, 1415, 1427, 1439, 1451,\n",
              "       1463, 1475, 1487, 1499, 1511, 1523, 1535, 1547, 1559, 1571, 1583,\n",
              "       1595, 1607, 1619, 1631, 1643, 1655, 1667, 1679, 1691, 1703, 1715,\n",
              "       1727, 1739, 1751, 1763, 1775, 1787, 1799, 1811, 1823, 1835, 1847,\n",
              "       1859, 1871, 1883, 1895, 1907, 1919, 1931, 1943, 1955, 1967, 1979,\n",
              "       1991, 2003, 2015, 2027, 2039, 2051, 2063, 2075, 2087, 2099, 2111,\n",
              "       2123, 2135, 2147, 2159, 2171, 2183, 2195, 2207, 2219, 2231, 2243,\n",
              "       2255])"
            ]
          },
          "metadata": {},
          "execution_count": 11
        }
      ]
    },
    {
      "cell_type": "code",
      "source": [
        "print(len(yindex))"
      ],
      "metadata": {
        "colab": {
          "base_uri": "https://localhost:8080/"
        },
        "id": "1Lns8wVF8YLB",
        "outputId": "39552987-9956-4c5d-bcfa-5e4675c30756"
      },
      "execution_count": null,
      "outputs": [
        {
          "output_type": "stream",
          "name": "stdout",
          "text": [
            "188\n"
          ]
        }
      ]
    },
    {
      "cell_type": "code",
      "source": [
        "ytrain = train[yindex]"
      ],
      "metadata": {
        "id": "LgB4lDD74i71"
      },
      "execution_count": null,
      "outputs": []
    },
    {
      "cell_type": "code",
      "source": [
        "ytrain[0]"
      ],
      "metadata": {
        "colab": {
          "base_uri": "https://localhost:8080/"
        },
        "id": "uS0ukCgW4-zJ",
        "outputId": "dd772962-3ab8-4a02-f3e2-7e37a43b6084"
      },
      "execution_count": null,
      "outputs": [
        {
          "output_type": "execute_result",
          "data": {
            "text/plain": [
              "0.33569738"
            ]
          },
          "metadata": {},
          "execution_count": 14
        }
      ]
    },
    {
      "cell_type": "code",
      "source": [
        "n_trainy = len(ytrain)"
      ],
      "metadata": {
        "id": "rWsKINBt5E5J"
      },
      "execution_count": null,
      "outputs": []
    },
    {
      "cell_type": "code",
      "source": [
        "n_trainy"
      ],
      "metadata": {
        "colab": {
          "base_uri": "https://localhost:8080/"
        },
        "id": "ADsFNaIc5Wbr",
        "outputId": "2ae75bb7-1400-43b8-cbc8-2dafe4058e43"
      },
      "execution_count": null,
      "outputs": [
        {
          "output_type": "execute_result",
          "data": {
            "text/plain": [
              "188"
            ]
          },
          "metadata": {},
          "execution_count": 16
        }
      ]
    },
    {
      "cell_type": "code",
      "source": [
        "xtrain = train[range(ncell*n_trainy)]\n",
        "xtrain = np.reshape(xtrain,(n_trainy, ncell,1))\n",
        "test_y_index = np.arange(ncell-1, n-split, ncell)\n",
        "test_y = test[test_y_index]\n",
        "n_test_y = len(test_y)\n",
        "test_x = test[range(ncell*n_test_y)]\n",
        "test_x = np.reshape(test_x, (n_test_y, ncell,1))"
      ],
      "metadata": {
        "id": "LB7UE9n_5XTC"
      },
      "execution_count": null,
      "outputs": []
    },
    {
      "cell_type": "code",
      "source": [
        "xtrain.shape"
      ],
      "metadata": {
        "colab": {
          "base_uri": "https://localhost:8080/"
        },
        "id": "6ROYCga89iRp",
        "outputId": "cd07d30a-3052-43e4-fe40-d861c12561b7"
      },
      "execution_count": null,
      "outputs": [
        {
          "output_type": "execute_result",
          "data": {
            "text/plain": [
              "(188, 12, 1)"
            ]
          },
          "metadata": {},
          "execution_count": 18
        }
      ]
    },
    {
      "cell_type": "code",
      "source": [
        "test_x.shape"
      ],
      "metadata": {
        "colab": {
          "base_uri": "https://localhost:8080/"
        },
        "id": "qkdLU6xg9nTC",
        "outputId": "ee74e1ee-9a3c-45d9-d279-8c25e52ba039"
      },
      "execution_count": null,
      "outputs": [
        {
          "output_type": "execute_result",
          "data": {
            "text/plain": [
              "(47, 12, 1)"
            ]
          },
          "metadata": {},
          "execution_count": 19
        }
      ]
    },
    {
      "cell_type": "code",
      "source": [
        "test_y.shape"
      ],
      "metadata": {
        "colab": {
          "base_uri": "https://localhost:8080/"
        },
        "id": "nmXBUKw39oxB",
        "outputId": "d52b371d-c1cb-46a3-fa45-1ef53925c6c8"
      },
      "execution_count": null,
      "outputs": [
        {
          "output_type": "execute_result",
          "data": {
            "text/plain": [
              "(47,)"
            ]
          },
          "metadata": {},
          "execution_count": 20
        }
      ]
    },
    {
      "cell_type": "code",
      "source": [
        "model = Sequential()\n",
        "model.add(SimpleRNN(3, input_shape=(ncell,1), activation='tanh'))\n",
        "model.add(Dense(units=1, activation='tanh'))\n",
        "model.compile(loss='mean_squared_error', optimizer='adam')\n",
        "model.fit(xtrain, ytrain, epochs=30, batch_size=1, verbose=2)"
      ],
      "metadata": {
        "colab": {
          "base_uri": "https://localhost:8080/"
        },
        "id": "XGN3A1629rXg",
        "outputId": "e7a1654c-ab47-498d-a031-5d7f38354846"
      },
      "execution_count": null,
      "outputs": [
        {
          "output_type": "stream",
          "name": "stdout",
          "text": [
            "Epoch 1/30\n",
            "188/188 - 4s - loss: 0.0659 - 4s/epoch - 23ms/step\n",
            "Epoch 2/30\n",
            "188/188 - 1s - loss: 0.0416 - 1s/epoch - 6ms/step\n",
            "Epoch 3/30\n",
            "188/188 - 1s - loss: 0.0340 - 1s/epoch - 6ms/step\n",
            "Epoch 4/30\n",
            "188/188 - 1s - loss: 0.0292 - 1s/epoch - 6ms/step\n",
            "Epoch 5/30\n",
            "188/188 - 1s - loss: 0.0246 - 1s/epoch - 6ms/step\n",
            "Epoch 6/30\n",
            "188/188 - 1s - loss: 0.0217 - 1s/epoch - 6ms/step\n",
            "Epoch 7/30\n",
            "188/188 - 1s - loss: 0.0194 - 1s/epoch - 6ms/step\n",
            "Epoch 8/30\n",
            "188/188 - 1s - loss: 0.0172 - 1s/epoch - 6ms/step\n",
            "Epoch 9/30\n",
            "188/188 - 1s - loss: 0.0153 - 1s/epoch - 6ms/step\n",
            "Epoch 10/30\n",
            "188/188 - 1s - loss: 0.0140 - 1s/epoch - 6ms/step\n",
            "Epoch 11/30\n",
            "188/188 - 1s - loss: 0.0126 - 1s/epoch - 6ms/step\n",
            "Epoch 12/30\n",
            "188/188 - 1s - loss: 0.0114 - 1s/epoch - 6ms/step\n",
            "Epoch 13/30\n",
            "188/188 - 1s - loss: 0.0104 - 1s/epoch - 6ms/step\n",
            "Epoch 14/30\n",
            "188/188 - 1s - loss: 0.0092 - 1s/epoch - 6ms/step\n",
            "Epoch 15/30\n",
            "188/188 - 1s - loss: 0.0084 - 1s/epoch - 6ms/step\n",
            "Epoch 16/30\n",
            "188/188 - 1s - loss: 0.0074 - 1s/epoch - 6ms/step\n",
            "Epoch 17/30\n",
            "188/188 - 1s - loss: 0.0067 - 1s/epoch - 6ms/step\n",
            "Epoch 18/30\n",
            "188/188 - 1s - loss: 0.0056 - 1s/epoch - 6ms/step\n",
            "Epoch 19/30\n",
            "188/188 - 1s - loss: 0.0048 - 1s/epoch - 6ms/step\n",
            "Epoch 20/30\n",
            "188/188 - 1s - loss: 0.0041 - 1s/epoch - 6ms/step\n",
            "Epoch 21/30\n",
            "188/188 - 1s - loss: 0.0036 - 1s/epoch - 6ms/step\n",
            "Epoch 22/30\n",
            "188/188 - 1s - loss: 0.0032 - 1s/epoch - 6ms/step\n",
            "Epoch 23/30\n",
            "188/188 - 1s - loss: 0.0030 - 1s/epoch - 6ms/step\n",
            "Epoch 24/30\n",
            "188/188 - 1s - loss: 0.0029 - 1s/epoch - 6ms/step\n",
            "Epoch 25/30\n",
            "188/188 - 1s - loss: 0.0026 - 1s/epoch - 6ms/step\n",
            "Epoch 26/30\n",
            "188/188 - 1s - loss: 0.0024 - 1s/epoch - 6ms/step\n",
            "Epoch 27/30\n",
            "188/188 - 1s - loss: 0.0023 - 1s/epoch - 6ms/step\n",
            "Epoch 28/30\n",
            "188/188 - 1s - loss: 0.0022 - 1s/epoch - 6ms/step\n",
            "Epoch 29/30\n",
            "188/188 - 1s - loss: 0.0021 - 1s/epoch - 6ms/step\n",
            "Epoch 30/30\n",
            "188/188 - 1s - loss: 0.0020 - 1s/epoch - 6ms/step\n"
          ]
        },
        {
          "output_type": "execute_result",
          "data": {
            "text/plain": [
              "<keras.callbacks.History at 0x7f9b006659d0>"
            ]
          },
          "metadata": {},
          "execution_count": 24
        }
      ]
    },
    {
      "cell_type": "code",
      "source": [
        "train_pred = model.predict(xtrain)\n",
        "test_pred = model.predict(test_x)"
      ],
      "metadata": {
        "id": "dO7YYWsXB6Wn"
      },
      "execution_count": null,
      "outputs": []
    },
    {
      "cell_type": "code",
      "source": [
        "train_error = math.sqrt(mean_squared_error(ytrain, train_pred))\n",
        "test_error = math.sqrt(mean_squared_error(test_y, test_pred))\n"
      ],
      "metadata": {
        "id": "8SBssGYRCfCx"
      },
      "execution_count": null,
      "outputs": []
    },
    {
      "cell_type": "code",
      "source": [
        "train_error"
      ],
      "metadata": {
        "colab": {
          "base_uri": "https://localhost:8080/"
        },
        "id": "XXAsATu1DaXB",
        "outputId": "550c7c9e-ecc7-470c-9f8d-bda34584420a"
      },
      "execution_count": null,
      "outputs": [
        {
          "output_type": "execute_result",
          "data": {
            "text/plain": [
              "0.04252521170081502"
            ]
          },
          "metadata": {},
          "execution_count": 32
        }
      ]
    },
    {
      "cell_type": "code",
      "source": [
        "test_error"
      ],
      "metadata": {
        "colab": {
          "base_uri": "https://localhost:8080/"
        },
        "id": "1Ed2R-EoDbGQ",
        "outputId": "362230f4-c9a3-43a9-9062-1763434f566d"
      },
      "execution_count": null,
      "outputs": [
        {
          "output_type": "execute_result",
          "data": {
            "text/plain": [
              "0.0726629495095616"
            ]
          },
          "metadata": {},
          "execution_count": 33
        }
      ]
    },
    {
      "cell_type": "code",
      "source": [
        "actual = np.append(ytrain, test_y)"
      ],
      "metadata": {
        "id": "pefzUAkGDeuj"
      },
      "execution_count": null,
      "outputs": []
    },
    {
      "cell_type": "code",
      "source": [
        "predicted = np.append(train_pred, test_pred)"
      ],
      "metadata": {
        "id": "XVe9_DlHDqMV"
      },
      "execution_count": null,
      "outputs": []
    },
    {
      "cell_type": "code",
      "source": [
        "samples = len(actual)"
      ],
      "metadata": {
        "id": "il0-RlncDv00"
      },
      "execution_count": null,
      "outputs": []
    },
    {
      "cell_type": "code",
      "source": [
        "plt.figure(figsize=(15,10))\n",
        "plt.plot(range(samples), actual)\n",
        "plt.plot(range(samples), predicted)\n",
        "plt.legend(['Actual', 'Predicted'])\n",
        "plt.xlabel('Observation Number')\n",
        "plt.ylabel('Sunspot scaled')\n",
        "plt.title('Actual & Predicted sunspot')"
      ],
      "metadata": {
        "colab": {
          "base_uri": "https://localhost:8080/",
          "height": 639
        },
        "id": "Sz3UgycQD1zC",
        "outputId": "ba488282-fdf7-411c-d60e-57223f251e54"
      },
      "execution_count": null,
      "outputs": [
        {
          "output_type": "execute_result",
          "data": {
            "text/plain": [
              "Text(0.5, 1.0, 'Actual & Predicted sunspot')"
            ]
          },
          "metadata": {},
          "execution_count": 40
        },
        {
          "output_type": "display_data",
          "data": {
            "text/plain": [
              "<Figure size 1080x720 with 1 Axes>"
            ],
            "image/png": "[encoded data removed]"
          },
          "metadata": {
            "needs_background": "light"
          }
        }
      ]
    },
    {
      "cell_type": "markdown",
      "source": [
        "**Conclusion:**\n",
        "\n",
        "Simple RNN is used to predict sunspot every 12 months, 3 neurons are used in the hidden layer and last layer is fully connected layer. \n",
        "\n",
        "The output shows training error 0.042 (MSE) and test error 0.072 (MSE) and the graph shows the actual and predicted values are almost the same."
      ],
      "metadata": {
        "id": "J-g6_XH1F-cC"
      }
    }
  ]
}