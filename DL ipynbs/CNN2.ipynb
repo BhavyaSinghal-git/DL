{
  "cells": [
    {
      "cell_type": "code",
      "execution_count": null,
      "metadata": {
        "id": "d_5SH1nJjn9Z"
      },
      "outputs": [],
      "source": [
        "from keras.datasets import mnist\n",
        "from keras.models import Sequential\n",
        "from keras.layers import Dense, Dropout, Conv2D, MaxPool2D, Flatten\n",
        "from keras.utils import np_utils\n",
        "from sklearn.metrics import accuracy_score"
      ]
    },
    {
      "cell_type": "code",
      "execution_count": null,
      "metadata": {
        "id": "Mu5aVddZmSMs"
      },
      "outputs": [],
      "source": [
        "import matplotlib.pyplot as plt"
      ]
    },
    {
      "cell_type": "code",
      "execution_count": null,
      "metadata": {
        "id": "efc7dE8atV8U"
      },
      "outputs": [],
      "source": [
        "import time"
      ]
    },
    {
      "cell_type": "code",
      "execution_count": null,
      "metadata": {
        "colab": {
          "base_uri": "https://localhost:8080/"
        },
        "id": "RWYn2JSeldII",
        "outputId": "ce9a0245-77ce-405d-db92-40eff4335ccb"
      },
      "outputs": [
        {
          "output_type": "execute_result",
          "data": {
            "text/plain": [
              "(60000, 28, 28)"
            ]
          },
          "metadata": {},
          "execution_count": 4
        }
      ],
      "source": [
        "(x_tr, y_tr), (x_te, y_te) = mnist.load_data()\n",
        "x_tr.shape"
      ]
    },
    {
      "cell_type": "code",
      "execution_count": null,
      "metadata": {
        "colab": {
          "base_uri": "https://localhost:8080/"
        },
        "id": "lXhPCBu0l75O",
        "outputId": "c49c481e-1644-4b90-f3aa-54ad41fd8365"
      },
      "outputs": [
        {
          "output_type": "execute_result",
          "data": {
            "text/plain": [
              "(10000, 28, 28)"
            ]
          },
          "metadata": {},
          "execution_count": 5
        }
      ],
      "source": [
        "x_te.shape"
      ]
    },
    {
      "cell_type": "code",
      "execution_count": null,
      "metadata": {
        "colab": {
          "base_uri": "https://localhost:8080/"
        },
        "id": "NPpFUJwtmHnk",
        "outputId": "7857afbc-f9a7-4703-9224-106506cab388"
      },
      "outputs": [
        {
          "output_type": "execute_result",
          "data": {
            "text/plain": [
              "(60000,)"
            ]
          },
          "metadata": {},
          "execution_count": 6
        }
      ],
      "source": [
        "y_tr.shape"
      ]
    },
    {
      "cell_type": "code",
      "execution_count": null,
      "metadata": {
        "colab": {
          "base_uri": "https://localhost:8080/",
          "height": 282
        },
        "id": "BaiiXmY6mKPB",
        "outputId": "761385eb-ab71-4a9e-ec2b-3b2e81a7f4e4"
      },
      "outputs": [
        {
          "output_type": "execute_result",
          "data": {
            "text/plain": [
              "<matplotlib.image.AxesImage at 0x7f6acba3ff50>"
            ]
          },
          "metadata": {},
          "execution_count": 7
        },
        {
          "output_type": "display_data",
          "data": {
            "text/plain": [
              "<Figure size 432x288 with 1 Axes>"
            ],
            "image/png": "[encoded data removed]"
          },
          "metadata": {
            "needs_background": "light"
          }
        }
      ],
      "source": [
        "plt.imshow(x_tr[10,:,:], cmap='gray')"
      ]
    },
    {
      "cell_type": "code",
      "execution_count": null,
      "metadata": {
        "colab": {
          "base_uri": "https://localhost:8080/"
        },
        "id": "rczrlewKmP4i",
        "outputId": "55d20b2d-ccc8-4049-abe6-6398f6de610a"
      },
      "outputs": [
        {
          "output_type": "execute_result",
          "data": {
            "text/plain": [
              "3"
            ]
          },
          "metadata": {},
          "execution_count": 8
        }
      ],
      "source": [
        "y_tr[10]"
      ]
    },
    {
      "cell_type": "code",
      "execution_count": null,
      "metadata": {
        "colab": {
          "base_uri": "https://localhost:8080/",
          "height": 282
        },
        "id": "zpzFxKQRmrRI",
        "outputId": "29c6cfb0-ed2a-4220-92aa-b333f9eb6b08"
      },
      "outputs": [
        {
          "output_type": "execute_result",
          "data": {
            "text/plain": [
              "<matplotlib.image.AxesImage at 0x7f6acb529810>"
            ]
          },
          "metadata": {},
          "execution_count": 9
        },
        {
          "output_type": "display_data",
          "data": {
            "text/plain": [
              "<Figure size 432x288 with 1 Axes>"
            ],
            "image/png": "[encoded data removed]"
          },
          "metadata": {
            "needs_background": "light"
          }
        }
      ],
      "source": [
        "plt.imshow(x_tr[100], cmap='gray')"
      ]
    },
    {
      "cell_type": "code",
      "execution_count": null,
      "metadata": {
        "colab": {
          "base_uri": "https://localhost:8080/"
        },
        "id": "gFJLVxpym53f",
        "outputId": "d095cd23-7360-4931-d884-7957543ac072"
      },
      "outputs": [
        {
          "output_type": "execute_result",
          "data": {
            "text/plain": [
              "5"
            ]
          },
          "metadata": {},
          "execution_count": 10
        }
      ],
      "source": [
        "y_tr[100]"
      ]
    },
    {
      "cell_type": "code",
      "execution_count": null,
      "metadata": {
        "colab": {
          "base_uri": "https://localhost:8080/"
        },
        "id": "_OPAp9Lem-_z",
        "outputId": "f854d090-29fc-408d-9a10-a9ce3b89f157"
      },
      "outputs": [
        {
          "output_type": "execute_result",
          "data": {
            "text/plain": [
              "(60000, 28, 28, 1)"
            ]
          },
          "metadata": {},
          "execution_count": 11
        }
      ],
      "source": [
        "sh = x_tr.shape\n",
        "x_train = x_tr.reshape(sh[0], sh[1], sh[2], 1)\n",
        "x_train.shape"
      ]
    },
    {
      "cell_type": "code",
      "execution_count": null,
      "metadata": {
        "colab": {
          "base_uri": "https://localhost:8080/"
        },
        "id": "jji_Rgp4n9Hw",
        "outputId": "60fcaf6e-630d-4efc-c9cc-0f789a9f2e32"
      },
      "outputs": [
        {
          "output_type": "execute_result",
          "data": {
            "text/plain": [
              "(10000, 28, 28, 1)"
            ]
          },
          "metadata": {},
          "execution_count": 12
        }
      ],
      "source": [
        "sh = x_te.shape\n",
        "x_test = x_te.reshape(sh[0], sh[1], sh[2], 1)\n",
        "x_test.shape"
      ]
    },
    {
      "cell_type": "code",
      "execution_count": null,
      "metadata": {
        "id": "IThZE5XUoEMq"
      },
      "outputs": [],
      "source": [
        "numb_classes = 10\n",
        "y_train_enc = np_utils.to_categorical(y_tr, numb_classes)\n",
        "y_test_enc = np_utils.to_categorical(y_te, numb_classes)"
      ]
    },
    {
      "cell_type": "code",
      "execution_count": null,
      "metadata": {
        "colab": {
          "base_uri": "https://localhost:8080/"
        },
        "id": "dZPQtDGCoxPl",
        "outputId": "119ef8db-4df4-4ad6-eb48-51b65d53b7cf"
      },
      "outputs": [
        {
          "output_type": "execute_result",
          "data": {
            "text/plain": [
              "array([0., 0., 0., 0., 0., 1., 0., 0., 0., 0.], dtype=float32)"
            ]
          },
          "metadata": {},
          "execution_count": 14
        }
      ],
      "source": [
        "y_train_enc[100]"
      ]
    },
    {
      "cell_type": "code",
      "execution_count": null,
      "metadata": {
        "colab": {
          "base_uri": "https://localhost:8080/"
        },
        "id": "wJ4MdFztozSp",
        "outputId": "cf21c43f-b1b1-4181-f56a-487c3b889920"
      },
      "outputs": [
        {
          "output_type": "execute_result",
          "data": {
            "text/plain": [
              "array([0., 0., 0., 1., 0., 0., 0., 0., 0., 0.], dtype=float32)"
            ]
          },
          "metadata": {},
          "execution_count": 15
        }
      ],
      "source": [
        "y_train_enc[10]"
      ]
    },
    {
      "cell_type": "code",
      "execution_count": null,
      "metadata": {
        "id": "vG44G0RJpqJw"
      },
      "outputs": [],
      "source": [
        "model = Sequential()\n",
        "model.add(\n",
        "    #padding = 'valid' --> no padding\n",
        "    Conv2D(25, kernel_size=(3,3), strides= (1,1),padding='valid', activation='relu', input_shape=(28,28,1))\n",
        ")\n",
        "model.add(\n",
        "    MaxPool2D(pool_size=(2,2))\n",
        ")\n",
        "model.add(\n",
        "    Flatten()\n",
        ")\n",
        "model.add(\n",
        "    Dense(100, activation='relu')\n",
        ")\n",
        "model.add(\n",
        "    Dense(10, activation='softmax')\n",
        ")"
      ]
    },
    {
      "cell_type": "code",
      "execution_count": null,
      "metadata": {
        "colab": {
          "base_uri": "https://localhost:8080/"
        },
        "id": "pQgMrniYt1V7",
        "outputId": "8b0339a2-0496-42ae-f4db-33c169b76e9a"
      },
      "outputs": [
        {
          "output_type": "stream",
          "name": "stdout",
          "text": [
            "Epoch 1/5\n",
            "469/469 [==============================] - 7s 8ms/step - loss: 1.0284 - accuracy: 0.9023 - val_loss: 0.1584 - val_accuracy: 0.9613\n",
            "Epoch 2/5\n",
            "469/469 [==============================] - 4s 8ms/step - loss: 0.1101 - accuracy: 0.9704 - val_loss: 0.1086 - val_accuracy: 0.9713\n",
            "Epoch 3/5\n",
            "469/469 [==============================] - 4s 8ms/step - loss: 0.0634 - accuracy: 0.9822 - val_loss: 0.1051 - val_accuracy: 0.9742\n",
            "Epoch 4/5\n",
            "469/469 [==============================] - 4s 8ms/step - loss: 0.0438 - accuracy: 0.9869 - val_loss: 0.0953 - val_accuracy: 0.9794\n",
            "Epoch 5/5\n",
            "469/469 [==============================] - 2s 5ms/step - loss: 0.0290 - accuracy: 0.9907 - val_loss: 0.0895 - val_accuracy: 0.9797\n"
          ]
        },
        {
          "output_type": "execute_result",
          "data": {
            "text/plain": [
              "<keras.callbacks.History at 0x7f6a4e347c50>"
            ]
          },
          "metadata": {},
          "execution_count": 17
        }
      ],
      "source": [
        "model.compile(loss='categorical_crossentropy', metrics=['accuracy'], optimizer='adam')\n",
        "model.fit(x_train, y_train_enc, batch_size=128, epochs=5, validation_data=(x_test, y_test_enc))"
      ]
    },
    {
      "cell_type": "code",
      "execution_count": null,
      "metadata": {
        "id": "qBsYsjoCwVUx"
      },
      "outputs": [],
      "source": [
        "pred_y = model.predict(x_test)\n",
        "import numpy as np\n",
        "max_loc = np.argmax(pred_y[100])"
      ]
    },
    {
      "cell_type": "code",
      "execution_count": null,
      "metadata": {
        "colab": {
          "base_uri": "https://localhost:8080/"
        },
        "id": "j714wdGuxBRU",
        "outputId": "09602df3-f43b-4936-dbc5-c8d2dc7a095b"
      },
      "outputs": [
        {
          "output_type": "execute_result",
          "data": {
            "text/plain": [
              "6"
            ]
          },
          "metadata": {},
          "execution_count": 19
        }
      ],
      "source": [
        "max_loc"
      ]
    },
    {
      "cell_type": "code",
      "execution_count": null,
      "metadata": {
        "colab": {
          "base_uri": "https://localhost:8080/",
          "height": 300
        },
        "id": "aXsOxzmsxCk3",
        "outputId": "71599568-58f3-45e8-f866-15913b0ba211"
      },
      "outputs": [
        {
          "output_type": "stream",
          "name": "stdout",
          "text": [
            "6\n"
          ]
        },
        {
          "output_type": "execute_result",
          "data": {
            "text/plain": [
              "<matplotlib.image.AxesImage at 0x7f6a4e03ebd0>"
            ]
          },
          "metadata": {},
          "execution_count": 20
        },
        {
          "output_type": "display_data",
          "data": {
            "text/plain": [
              "<Figure size 432x288 with 1 Axes>"
            ],
            "image/png": "[encoded data removed]"
          },
          "metadata": {
            "needs_background": "light"
          }
        }
      ],
      "source": [
        "print(y_te[100])\n",
        "plt.imshow(x_te[100], cmap='gray')"
      ]
    },
    {
      "cell_type": "code",
      "execution_count": null,
      "metadata": {
        "colab": {
          "base_uri": "https://localhost:8080/",
          "height": 334
        },
        "id": "HD4JiA4sxO5f",
        "outputId": "e3129398-97a3-444f-c9f3-19fe7fa7e10c"
      },
      "outputs": [
        {
          "output_type": "stream",
          "name": "stdout",
          "text": [
            "7\n",
            "[3.3828940e-12 5.7127455e-15 1.6425048e-08 2.7353619e-06 1.4799932e-15\n",
            " 2.6157382e-20 8.3584311e-12 9.9999726e-01 2.2678965e-11 3.4685679e-10]\n"
          ]
        },
        {
          "output_type": "execute_result",
          "data": {
            "text/plain": [
              "<matplotlib.image.AxesImage at 0x7f6a4e069b50>"
            ]
          },
          "metadata": {},
          "execution_count": 21
        },
        {
          "output_type": "display_data",
          "data": {
            "text/plain": [
              "<Figure size 432x288 with 1 Axes>"
            ],
            "image/png": "[encoded data removed]"
          },
          "metadata": {
            "needs_background": "light"
          }
        }
      ],
      "source": [
        "print(y_te[0])\n",
        "print(pred_y[0])\n",
        "plt.imshow(x_te[0], cmap='gray')"
      ]
    },
    {
      "cell_type": "markdown",
      "metadata": {
        "id": "Ecc9ob7XyQJO"
      },
      "source": [
        "Conclusion:\n",
        "\n",
        "CNN is generated for the given mnist dataset of 10 digits, CNN has input layer, 2 hidden layers and 1 output layer with 10 neurons, the network is trained using adam optimizer and 5 epochs. It shows validation accuracy as 97.94%. The network is tested for 0th and 100th sample which are accurately predicted. "
      ]
    },
    {
      "cell_type": "markdown",
      "metadata": {
        "id": "Az2jPVYO0s_s"
      },
      "source": [
        "Part 2\n"
      ]
    },
    {
      "cell_type": "code",
      "execution_count": null,
      "metadata": {
        "id": "HcDs3Hih0qnu"
      },
      "outputs": [],
      "source": [
        "from keras.datasets import cifar10"
      ]
    },
    {
      "cell_type": "code",
      "execution_count": null,
      "metadata": {
        "colab": {
          "base_uri": "https://localhost:8080/"
        },
        "id": "QWtlKkvJ1IYn",
        "outputId": "8b4c3320-5cf4-4041-e084-73a5a1593ca5"
      },
      "outputs": [
        {
          "output_type": "execute_result",
          "data": {
            "text/plain": [
              "(50000, 32, 32, 3)"
            ]
          },
          "metadata": {},
          "execution_count": 23
        }
      ],
      "source": [
        "(x_tr, y_tr), (x_te, y_te) = cifar10.load_data()\n",
        "x_tr.shape"
      ]
    },
    {
      "cell_type": "code",
      "execution_count": null,
      "metadata": {
        "colab": {
          "base_uri": "https://localhost:8080/"
        },
        "id": "gTmDW-Ml1SLg",
        "outputId": "9c294144-b022-4ac6-d119-f425808a18fa"
      },
      "outputs": [
        {
          "output_type": "execute_result",
          "data": {
            "text/plain": [
              "(10000, 32, 32, 3)"
            ]
          },
          "metadata": {},
          "execution_count": 24
        }
      ],
      "source": [
        "x_te.shape"
      ]
    },
    {
      "cell_type": "code",
      "execution_count": null,
      "metadata": {
        "colab": {
          "base_uri": "https://localhost:8080/"
        },
        "id": "41NiAzY31cGm",
        "outputId": "3c606a12-c6c0-437c-f569-d04db19f743c"
      },
      "outputs": [
        {
          "output_type": "execute_result",
          "data": {
            "text/plain": [
              "array([6], dtype=uint8)"
            ]
          },
          "metadata": {},
          "execution_count": 25
        }
      ],
      "source": [
        "y_tr[0, :]"
      ]
    },
    {
      "cell_type": "code",
      "execution_count": null,
      "metadata": {
        "colab": {
          "base_uri": "https://localhost:8080/"
        },
        "id": "nQHe9N-71w2P",
        "outputId": "05ba3a50-d3f8-423d-a9d6-721d301e063d"
      },
      "outputs": [
        {
          "output_type": "execute_result",
          "data": {
            "text/plain": [
              "(50000, 1)"
            ]
          },
          "metadata": {},
          "execution_count": 26
        }
      ],
      "source": [
        "y_tr.shape"
      ]
    },
    {
      "cell_type": "code",
      "execution_count": null,
      "metadata": {
        "colab": {
          "base_uri": "https://localhost:8080/",
          "height": 607
        },
        "id": "gGPs_-pB10y8",
        "outputId": "49108a4c-7be7-4fcb-dd13-42a3f84ecedc"
      },
      "outputs": [
        {
          "output_type": "display_data",
          "data": {
            "text/plain": [
              "<Figure size 720x720 with 9 Axes>"
            ],
            "image/png": "[encoded data removed]"
          },
          "metadata": {
            "needs_background": "light"
          }
        }
      ],
      "source": [
        "class_name = ['airplane', 'automobile', 'bird', 'cat', 'deer', 'dog', 'frog', 'horse', 'ship', 'truck']\n",
        "plt.figure(figsize=(10,10))\n",
        "for i in range(9):\n",
        "  plt.subplot(3,3,i+1)\n",
        "  plt.imshow(x_tr[i])\n",
        "  plt.title(class_name[y_tr[i][0]])"
      ]
    },
    {
      "cell_type": "code",
      "execution_count": null,
      "metadata": {
        "id": "673vkWJz2u3K"
      },
      "outputs": [],
      "source": [
        "numb_classes = 10\n",
        "y_train_enc = np_utils.to_categorical(y_tr, numb_classes)\n",
        "y_test_enc = np_utils.to_categorical(y_te, numb_classes)"
      ]
    },
    {
      "cell_type": "code",
      "execution_count": null,
      "metadata": {
        "id": "LpBqujNV3bnw"
      },
      "outputs": [],
      "source": [
        "model = Sequential()\n",
        "model.add(\n",
        "    #padding = 'same' --> add padding such that size after conv2d remains same\n",
        "    Conv2D(50, kernel_size=(3,3), strides= (1,1),padding='same', activation='relu', input_shape=(32,32,3))\n",
        ")\n",
        "model.add(\n",
        "    MaxPool2D(pool_size=(2,2))\n",
        ")\n",
        "model.add(\n",
        "    #padding = 'same' --> add padding such that size after conv2d remains same\n",
        "    Conv2D(75, kernel_size=(3,3), strides= (1,1),padding='same', activation='relu')\n",
        ")\n",
        "model.add(\n",
        "    MaxPool2D(pool_size=(2,2))\n",
        ")\n",
        "model.add(\n",
        "    Dropout(0.25)\n",
        ")\n",
        "model.add(\n",
        "    #padding = 'same' --> add padding such that size after conv2d remains same\n",
        "    Conv2D(125, kernel_size=(3,3), strides= (1,1),padding='same', activation='relu')\n",
        ")\n",
        "model.add(\n",
        "    MaxPool2D(pool_size=(2,2))\n",
        ")\n",
        "model.add(\n",
        "    Dropout(0.25)\n",
        ")\n",
        "model.add(\n",
        "    Flatten()\n",
        ")\n",
        "model.add(\n",
        "    Dense(500, activation='relu')\n",
        ")\n",
        "model.add(\n",
        "    Dropout(0.4)\n",
        ")\n",
        "model.add(\n",
        "    Dense(250, activation='relu')\n",
        ")\n",
        "model.add(\n",
        "    Dropout(0.3)\n",
        ")\n",
        "model.add(\n",
        "    Dense(10, activation='softmax')\n",
        ")"
      ]
    },
    {
      "cell_type": "code",
      "execution_count": null,
      "metadata": {
        "colab": {
          "base_uri": "https://localhost:8080/"
        },
        "id": "KR7PGE3L5yTR",
        "outputId": "4c172128-02e9-4131-953e-76b2114d9b94"
      },
      "outputs": [
        {
          "output_type": "stream",
          "name": "stdout",
          "text": [
            "Epoch 1/5\n",
            "391/391 [==============================] - 5s 12ms/step - loss: 2.4301 - accuracy: 0.2882 - val_loss: 1.5977 - val_accuracy: 0.4468\n",
            "Epoch 2/5\n",
            "391/391 [==============================] - 5s 12ms/step - loss: 1.5727 - accuracy: 0.4259 - val_loss: 1.3253 - val_accuracy: 0.5290\n",
            "Epoch 3/5\n",
            "391/391 [==============================] - 6s 14ms/step - loss: 1.4144 - accuracy: 0.4917 - val_loss: 1.2276 - val_accuracy: 0.5780\n",
            "Epoch 4/5\n",
            "391/391 [==============================] - 5s 13ms/step - loss: 1.3009 - accuracy: 0.5398 - val_loss: 1.1254 - val_accuracy: 0.6111\n",
            "Epoch 5/5\n",
            "391/391 [==============================] - 4s 10ms/step - loss: 1.2136 - accuracy: 0.5740 - val_loss: 1.1023 - val_accuracy: 0.6306\n"
          ]
        },
        {
          "output_type": "execute_result",
          "data": {
            "text/plain": [
              "<keras.callbacks.History at 0x7f6a3a3b9e90>"
            ]
          },
          "metadata": {},
          "execution_count": 30
        }
      ],
      "source": [
        "model.compile(loss='categorical_crossentropy', metrics=['accuracy'], optimizer='adam')\n",
        "model.fit(x_tr, y_train_enc, batch_size=128, epochs=5, validation_data=(x_te, y_test_enc))"
      ]
    },
    {
      "cell_type": "code",
      "execution_count": null,
      "metadata": {
        "colab": {
          "base_uri": "https://localhost:8080/",
          "height": 301
        },
        "id": "h-tzRfHV6Arz",
        "outputId": "5c32dbd9-5a30-4e1e-a03d-6f32e30e9102"
      },
      "outputs": [
        {
          "output_type": "stream",
          "name": "stdout",
          "text": [
            "airplane\n"
          ]
        },
        {
          "output_type": "execute_result",
          "data": {
            "text/plain": [
              "<matplotlib.image.AxesImage at 0x7f6a3a4bc8d0>"
            ]
          },
          "metadata": {},
          "execution_count": 31
        },
        {
          "output_type": "display_data",
          "data": {
            "text/plain": [
              "<Figure size 432x288 with 1 Axes>"
            ],
            "image/png": "[encoded data removed]"
          },
          "metadata": {
            "needs_background": "light"
          }
        }
      ],
      "source": [
        "predict = model.predict(x_te)\n",
        "predict[10]\n",
        "ind_x = np.argmax(predict[10])\n",
        "class_name[ind_x]\n",
        "y_te[10]\n",
        "ind_y = np.argmax(y_te[10])\n",
        "print(class_name[ind_y])\n",
        "plt.imshow(x_te[10])\n"
      ]
    },
    {
      "cell_type": "markdown",
      "source": [
        "Conclusion:\n",
        "\n",
        "Cifar 10 is used to train convolution train network with 3 convolutional layer and 3 fully connected layers to classify 10 categories of given images. For 10th test image the network predicts airplane and actual sample image is airplane. Since accuracy of the network is 63.06%, the prediction of few samples can be wrong."
      ],
      "metadata": {
        "id": "03-GrXSo-OTT"
      }
    }
  ],
  "metadata": {
    "accelerator": "GPU",
    "colab": {
      "provenance": [],
      "collapsed_sections": []
    },
    "gpuClass": "standard",
    "kernelspec": {
      "display_name": "Python 3",
      "name": "python3"
    },
    "language_info": {
      "name": "python"
    }
  },
  "nbformat": 4,
  "nbformat_minor": 0
}